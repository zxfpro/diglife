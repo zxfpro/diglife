{
 "cells": [
  {
   "cell_type": "code",
   "execution_count": null,
   "id": "80421d8b",
   "metadata": {},
   "outputs": [],
   "source": [
    "prompt_id = \"0094\""
   ]
  },
  {
   "cell_type": "code",
   "execution_count": null,
   "id": "94e2ed57",
   "metadata": {},
   "outputs": [],
   "source": [
    "import requests\n",
    "demand = \"注意几岁到几岁的格式, 只支持11到20岁, 21到30岁, 31到40岁.. 以此类推, 而不能是零散的数 如 25到28岁\"\n",
    "action_type = \"patch\"  # patch  finetune\n",
    "url = f\"http://127.0.0.1:8107/prompt/push_order?demand={demand}&prompt_id={prompt_id}&action_type={action_type}\"\n",
    "\n",
    "payload={}\n",
    "headers = {}\n",
    "\n",
    "response = requests.request(\"GET\", url, headers=headers, data=payload)\n",
    "\n",
    "print(response.text)\n"
   ]
  },
  {
   "cell_type": "code",
   "execution_count": null,
   "id": "40425bc7",
   "metadata": {},
   "outputs": [],
   "source": [
    "import requests\n",
    "import json\n",
    "\n",
    "url = \"http://127.0.0.1:8107/memory_card/generate\"\n",
    "\n",
    "payload = json.dumps({\n",
    "   \"text\": \"ai:柴东升，你好呀。初中那段不太顺利的经历，你愿意和我详细说说吗？\\nhuman:初中没有不太顺利，在我的记忆中，初中还是挺快乐的。\\nai:那真是太好了。在学校与同学们一起学习、玩耍，肯定发生了很多让你难以忘怀的趣事吧？\\nhuman:对的，虽然初中那会儿学校比较乱，但是和朋友在一起还是很快乐的。\\nai:学校环境乱，会影响到你吗？你的朋友都是些什么样的人呢？\\nhuman:和我玩的比较好的朋友都是学习不太好的人。 因为我的性格，怎么说在初中的时候也是也不是那种一心葡萄学习上的，我也会和他们一块出去玩，一块出去疯。 只不过是该学习时候的学习，该班的时候就玩。\\nai:懂得劳逸结合，这是很难得的呀。那你和朋友们一般都去哪里玩呢？\\nhuman:当时就是去到县里的街上去，到处溜达，嗯，到处逛，然后跟他们在一块打打闹闹的。\\nai:听起来很有意思呢。那时候的时光一定很美好吧？有没有什么特别的经历呢？\\nhuman:给我印象最深刻的是初三的时候，当时我们嗯刚病校。 我另一个学校刚和您在一块，然后因为初中那会学生都属于青春期，比较躁动。嗯，有一次在。 我们中午吃饭的时候，嗯，我们班上和我关系很好的一个人。 另一个学校的一个人在打饭的时候嗯争执起来，打了起来，然后最后嗯变成了我们两个。 班的人的一个。 混战打勋章，然后当时我也加入到其中了。嗯，我的头脑袋。 不知道被从哪飞来的一个餐牌给打中了。 当时还起了一个浩大的包裹。\\nai:混战？那场面一定很混乱吧。被餐牌打中脑袋，有没有去看医生呢？\\nhuman:没有，就是鼓了一个包，当时也比较皮，没有那么脆弱，过两天你就没事了，然后这场请假。 导致了我那个朋友被他父母领回去了，因为他父母是他家是在沈阳。嗯。 然后但是把它放到了老家来上学，但是经历过这个事情之后，他父母就把他领回沈阳了。\\nai:当时年少轻狂，大家都容易冲动。那后来呢？你们还有联系吗？\\nhuman:有他有联系的，前段时间他结婚，嗯，我他邀请我去给他当伴郎，但是我因为工作比较忙没有去上。\\nai:时光飞逝，当年的少年如今都已结婚生子。那你现在对当年的那场混战有什么看法呢？\\nhuman:没有什么，就是当时都比较小，又是青春期，大家都比较冲动。\\nai:是啊，谁的青春不冲动呢？那你觉得这段经历对你的成长有什么影响吗？\\nhuman:其实初中的那段经历让我在之后很长的一段时间都会比较意气用事。\\nai:看来年少时的经历，多少会在我们身上留下些痕迹。那后来呢？你是怎么意识到这个问题的？\\nhuman:是在上大学的时候慢慢的意识到这个问题，并且。 主播改过来了！\\nai:大学是个成长的好阶段。那你是通过什么方式改掉意气用事这个习惯的呢？\\nhuman:我也不太清楚，就是逐渐的慢慢的意识到这个问题，然后慢慢的就。 改过来了！\\nai:能自我觉察并做出改变，这很了不起。那现在的你，在面对问题时，会更加理智冷静吧？\\nhuman:是的，现在我回很理智的去判断。\\n\"\n",
    "})\n",
    "headers = {\n",
    "   'Content-Type': 'application/json'\n",
    "}\n",
    "\n",
    "response = requests.request(\"POST\", url, headers=headers, data=payload)\n",
    "\n",
    "print(response.text)"
   ]
  },
  {
   "cell_type": "code",
   "execution_count": null,
   "id": "73477acd",
   "metadata": {},
   "outputs": [],
   "source": [
    "import requests\n",
    "\n",
    "url = f\"http://127.0.0.1:8107/prompt/get_latest_prompt?prompt_id={prompt_id}\"\n",
    "\n",
    "payload={}\n",
    "headers = {}\n",
    "\n",
    "response = requests.request(\"GET\", url, headers=headers, data=payload)\n",
    "print(response.json()['result'][\"version\"])\n",
    "print()\n",
    "print(response.json()['result'][\"prompt\"])"
   ]
  },
  {
   "cell_type": "markdown",
   "id": "99717117",
   "metadata": {},
   "source": [
    "提示词\n",
    "\n",
    "输入\n",
    "\n",
    "回复\n",
    "\n",
    "修改\n",
    "\n",
    "回复\n",
    "\n",
    "修改\n",
    "\n",
    "回复\n",
    "\n",
    "格式\n",
    "\n",
    "\n",
    "train\n",
    "提示词     提示词     提示词\n",
    "           输入       输入\n",
    "            回复       回复\n",
    "                        修改\n",
    "                        回复\n",
    "格式       格式         格式\n",
    "\n",
    "\n",
    "finetune\n",
    "提示词     提示词\n",
    "           输入\n",
    "格式       格式"
   ]
  },
  {
   "cell_type": "code",
   "execution_count": null,
   "id": "e5a33eb2",
   "metadata": {},
   "outputs": [],
   "source": []
  },
  {
   "cell_type": "code",
   "execution_count": 1,
   "id": "b449f69a",
   "metadata": {},
   "outputs": [],
   "source": [
    "from llmada.core import ArkAdapter"
   ]
  },
  {
   "cell_type": "code",
   "execution_count": 6,
   "id": "0eae448a",
   "metadata": {},
   "outputs": [],
   "source": [
    "ark = ArkAdapter(model_name =\"doubao-1-5-pro-32k-250115\" )\n",
    "\n",
    "# doubao-1.5-pro-32k"
   ]
  },
  {
   "cell_type": "code",
   "execution_count": 7,
   "id": "79c8ce0b",
   "metadata": {},
   "outputs": [
    {
     "name": "stderr",
     "output_type": "stream",
     "text": [
      "2025-10-23 16:59:17,230 - INFO - httpx - _client:1025 - HTTP Request: POST https://ark.cn-beijing.volces.com/api/v3/chat/completions \"HTTP/1.1 200 OK\"\n"
     ]
    },
    {
     "data": {
      "text/plain": [
       "'你想说的可能是“你好”呀！有什么事情都可以和我说说呢。 '"
      ]
     },
     "execution_count": 7,
     "metadata": {},
     "output_type": "execute_result"
    }
   ],
   "source": [
    "ark.product('你哈')"
   ]
  },
  {
   "cell_type": "code",
   "execution_count": null,
   "id": "64575521",
   "metadata": {},
   "outputs": [],
   "source": []
  }
 ],
 "metadata": {
  "kernelspec": {
   "display_name": "diglife (3.13.3)",
   "language": "python",
   "name": "python3"
  },
  "language_info": {
   "codemirror_mode": {
    "name": "ipython",
    "version": 3
   },
   "file_extension": ".py",
   "mimetype": "text/x-python",
   "name": "python",
   "nbconvert_exporter": "python",
   "pygments_lexer": "ipython3",
   "version": "3.13.3"
  }
 },
 "nbformat": 4,
 "nbformat_minor": 5
}
