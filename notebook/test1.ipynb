{
 "cells": [
  {
   "cell_type": "code",
   "execution_count": 5,
   "id": "7531f086",
   "metadata": {},
   "outputs": [
    {
     "name": "stderr",
     "output_type": "stream",
     "text": [
      "<unknown>:38: SyntaxWarning: invalid escape sequence '\\s'\n",
      "<unknown>:38: SyntaxWarning: invalid escape sequence '\\s'\n"
     ]
    },
    {
     "name": "stdout",
     "output_type": "stream",
     "text": [
      "{'title': '我的小时候', 'content': '1995年，我出生在东北辽宁葫芦岛下辖的一个小村庄。小时候，那里的生活简单纯粹，人们遵循着日出而作、日落而息的规律，日子美好且宁静。那时的我们，像山里撒欢的野孩子，没有特定的兴趣爱好，只知在山林间肆意疯跑。尤其喜爱在夜晚仰望天空，刹那间便能瞧见繁星布满夜空，那璀璨的景象，如梦如幻。\\n\\n后来，步入高中，我对天文物理和理论物理萌生了浓厚兴趣。当时在县城读书，教学资源有限，大家都将精力集中在学科学习上，而我对宇宙奥秘的探索之心，也在这个过程中愈发炽热。', 'time': ''} resultresult\n"
     ]
    }
   ],
   "source": [
    "from diglife.core import MemoryCardManager\n",
    "memory_card = {\n",
    "    \"title\": \"我的小时候\",\n",
    "    \"content\": \"我出生在东北辽宁葫芦岛下面的一个小村庄。小时候，那里的生活比较简单，人们日出而作，日落而息，生活节奏非常有规律，也非常美好。当时我们都是山里的野孩子，没有什么特别的兴趣爱好，就在山里各种疯跑。我小时候特别喜欢晚上看星星，那时的夜晚星星非常多，真的是那种突然就能看到漫天繁星的感觉。\\n在我高中的时候，我对天文物理和理论物理就非常感兴趣。我当时高中是在我们县城里读的，资源没有那么丰富，我们所有的精力都放在学科的学习上。\",\n",
    "    \"time\": \"1995年--月--日\"\n",
    "}\n",
    "MCmanager = MemoryCardManager()\n",
    "result = await MCmanager.amemory_card_polish(memory_card=memory_card)\n",
    "print(result,'resultresult')\n"
   ]
  },
  {
   "cell_type": "code",
   "execution_count": null,
   "id": "6ca5eb23",
   "metadata": {
    "vscode": {
     "languageId": "ini"
    }
   },
   "outputs": [],
   "source": []
  }
 ],
 "metadata": {
  "kernelspec": {
   "display_name": "diglife (3.13.3)",
   "language": "python",
   "name": "python3"
  },
  "language_info": {
   "codemirror_mode": {
    "name": "ipython",
    "version": 3
   },
   "file_extension": ".py",
   "mimetype": "text/x-python",
   "name": "python",
   "nbconvert_exporter": "python",
   "pygments_lexer": "ipython3",
   "version": "3.13.3"
  }
 },
 "nbformat": 4,
 "nbformat_minor": 5
}
